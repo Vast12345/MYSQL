{
 "cells": [
  {
   "cell_type": "markdown",
   "metadata": {},
   "source": [
    "# Claves y Restricciones SQL"
   ]
  },
  {
   "cell_type": "markdown",
   "metadata": {},
   "source": [
    "## 1. Claves\n",
    "\n",
    "Las claves en MyDQL, como en otros sistemas de gestion de bases de datos, son fundamentales para organizar, relacionar y asegurar la integridad de los datos.\n",
    "\n",
    "* **Integridad de datos**\n",
    "* **Rendimiento**\n",
    "* **Relaciones entre tables**\n",
    "* **Prevencion de datos duplicados**"
   ]
  },
  {
   "cell_type": "markdown",
   "metadata": {},
   "source": [
    "### Claves Primarias (PRIMARY KEY)\n",
    "* Una clave primaria es un conjunto de uno o mas campos que identifican de manera unica cada registro en una tabla\n",
    "* No puede contener valorers nulos\n",
    "* Cada tabla puede tener solo una clave primaria."
   ]
  },
  {
   "cell_type": "markdown",
   "metadata": {},
   "source": [
    "```sql\n",
    "create table estudiantes (\n",
    "    id int primary key,\n",
    "    nombre varchar(50)\n",
    ");\n",
    "```\n",
    "\n",
    "Otra forma de crear la clave primaria:\n",
    "\n",
    "```sql\n",
    "create table estudiantes (\n",
    "    id int,\n",
    "    nombre varchar(50),\n",
    "    primary key (id)\n",
    ");\n",
    "```"
   ]
  },
  {
   "cell_type": "markdown",
   "metadata": {},
   "source": [
    "### Claves Foraneas (Externas) (FOREIGN KEY)\n",
    "\n",
    "* Una clave externa se utiliza para establecer relaciones entre tablas.\n",
    "* Garantiza que los valores en una columna coincidan con los valores en la clave primaria de otra tabla.\n",
    "\n",
    "**Sintaxis**\n",
    "\n",
    "```sql\n",
    "create table cursos(\n",
    "    id int primary key,\n",
    "    nombre varchar(50),\n",
    ");\n",
    "\n",
    "create table estudiantes(\n",
    "    id int primary key,\n",
    "    nombre varchar(50)\n",
    ")\n",
    "\n",
    "create table inscripciones(\n",
    "    estudiante_id int,\n",
    "    curso_id int,\n",
    "    foreign key (estudiantes_ID) REFERENCES estudiantes(id)\n",
    "    foreign key (curso_id) references cursos(id)\n",
    ");\n",
    "```"
   ]
  },
  {
   "cell_type": "markdown",
   "metadata": {},
   "source": [
    "# 2. Restricciones\n",
    "\n",
    "### Restriccion de Unicidad (UNIQUE):\n",
    "* Garantiza que los valores en una columna o un conjunto de columnas sean unicos en la tabla\n",
    "\n",
    "**Ejemplo**\n",
    "\n",
    "```sql\n",
    "create table empleados (\n",
    "    id int primary key,\n",
    "    codigo_empleado int unique,\n",
    "    nombre varchar(50)\n",
    ");\n",
    "```"
   ]
  },
  {
   "cell_type": "markdown",
   "metadata": {},
   "source": [
    "### Restriccion de Valor Predetermindao (DEFAULT):\n",
    "\n",
    "* Define un valor predeterminado para una columna si no se proporcionan un valor al insertar un nuevo registro.\n",
    "\n",
    "**Ejemplo**\n",
    "\n",
    "```sql\n",
    "create table pedidos (\n",
    "    id int primary key,\n",
    "    fecha_pedido date default (current_date),\n",
    "    total decimal(10,2) default 0.00\n",
    ");\n",
    "\n",
    "insert into pedidos (id, total) values (1, 100), (2, 30), (3, 150);\n",
    "\n",
    "select * from pedidos;\n",
    "```"
   ]
  },
  {
   "cell_type": "markdown",
   "metadata": {},
   "source": [
    "### Restriccion de Verificacion (CHECK)\n",
    "\n",
    "* Permite definir una condicion que debe cumplirse para que un valor se almacene en un columna.\n",
    "\n",
    "**Ejemplo**\n",
    "Crear una tabla productos con un id, nombre y cantidad donde se verique la cantidad debe ser mayor a 0.\n",
    "\n",
    "```sql\n",
    "create table if not exists producto (\n",
    "    id int primary key,\n",
    "    nombre varchar(50),\n",
    "    cantidad int check (cantidad > 0)\n",
    ");\n",
    "\n",
    "insert into productos values (1, \"Bandeja Paisa\", 0); -- Error: CHECK constraint failed: cantidad >\n",
    "```"
   ]
  },
  {
   "cell_type": "markdown",
   "metadata": {},
   "source": [
    "### Restriccion de No Nullos (NOT NULL)\n",
    "\n",
    "* Indica que una columna no puede contener valores nulos.\n",
    "\n",
    "**Ejemplo**\n",
    "\n",
    "```sql\n",
    "create table clientes (\n",
    "    id int primary key,\n",
    "    nombre varchar(50) not null\n",
    ");\n",
    "```"
   ]
  },
  {
   "cell_type": "markdown",
   "metadata": {},
   "source": [
    "### Restriccion de valor unico en clave Primaria (AUTO_INCREMENT)\n",
    "\n",
    "* Se utilza para generar automaticamente valores unicos para una columna de clave primaria.\n",
    "\n",
    "**Ejemplo**\n",
    "\n",
    "```sql\n",
    "create table empleados (\n",
    "    id int primary key auto_increment,\n",
    "    nombre varchar(50)\n",
    ");\n",
    "\n",
    "insert into empleados (nombre) values (\"camilo\"), (\"lorenzo\"), (\"carlos\");\n",
    "```"
   ]
  },
  {
   "cell_type": "markdown",
   "metadata": {},
   "source": [
    "## Entidad relacion y el model relacional\n",
    "\n",
    "### Componentes principales del modelo E-R\n",
    "\n",
    "1. **Entidades:** Objetos del mundo real de interes para el sistema.\n",
    "\n",
    "2. **Atributos;** Caracteristicas o proiedades de las _entidades_.\n",
    "\n",
    "3. **Relaciones:** Asociaciones o conexiones entre _entidades_.\n",
    "\n",
    "4. **Cardinalidad:** Cantidad de instancias de una _entidad_ en otras. Los tipos que encontramos: uno a muchos (1, N), muchos a muchos (M, N) y de uno a uno (1:1).\n"
   ]
  },
  {
   "cell_type": "markdown",
   "metadata": {},
   "source": [
    "### Modelo Relacional\n",
    "\n",
    "* Es una representacion logica mas croncreta y fisica de la base de datos.\n",
    "\n",
    "* Los datos se organizan en tablas y relaciones.\n",
    "\n",
    "* Las tablas filas(registros) y columnas(campos).\n",
    "\n",
    "* Las relaciones se hacen a traves de las llaves (primaria y foranias (externas))"
   ]
  }
 ],
 "metadata": {
  "language_info": {
   "name": "python"
  }
 },
 "nbformat": 4,
 "nbformat_minor": 2
}
