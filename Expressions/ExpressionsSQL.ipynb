{
 "cells": [
  {
   "cell_type": "markdown",
   "metadata": {},
   "source": [
    "# MySQL Expressions\n",
    "\n",
    "### Expressions Definition\n",
    "* Expressions are used to help find certain types of data in a table using expressions similar to those in javascript. While the syntax is vastly different, the idea is similar."
   ]
  }
 ],
 "metadata": {
  "language_info": {
   "name": "python"
  }
 },
 "nbformat": 4,
 "nbformat_minor": 2
}
