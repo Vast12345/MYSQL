{
 "cells": [
  {
   "cell_type": "markdown",
   "metadata": {},
   "source": [
    "# **Indexes**\n",
    "\n",
    "#### ***Index meaning***\n",
    "\n",
    "\n",
    "\n",
    "#### ***Index syntax***\n",
    "\n",
    "```\n",
    "create index idx_name on country(name);\n",
    "```\n",
    "\n",
    "#### ***Create indexes on many***\n",
    "\n",
    "```\n",
    "create index idx_order_date_status on orders(order_status, date);\n",
    "```\n",
    "\n",
    "#### ***Delete Index***\n",
    "\n",
    "```\n",
    "drop index idx_name on table\n",
    "```\n",
    "\n",
    "#### ***Unique Index***\n",
    "\n",
    "```\n",
    "create unique index idx_unq_name on country(name)\n",
    "```\n",
    "\n",
    "#### ***Text Index***\n",
    "\n",
    "```\n",
    "create fulltext index idx_article_content on articles(content);\n",
    "```"
   ]
  },
  {
   "cell_type": "markdown",
   "metadata": {},
   "source": [
    "# **Vistas**\n",
    "\n",
    "#### ***Vista meaning:***\n",
    "A dynamic and secure version of viewing a table, similar to creating a temporal table except a viewing table is not physical.\n",
    "\n",
    "#### ***View syntax***\n",
    "\n",
    "```\n",
    "create view view_table as ...\n",
    "```\n",
    "\n",
    "#### ***Syntax to change a View***\n",
    "\n",
    "```\n",
    "create or replace VIEW nombre_vista as\n",
    "    select columnas\n",
    "    from tablas\n",
    "    where condiciones;\n",
    "```"
   ]
  },
  {
   "cell_type": "markdown",
   "metadata": {},
   "source": [
    "# **Case**\n",
    "\n",
    "#### ***Case Meaning***\n",
    "\n",
    "Simpler and more dynamic form of an if conditional\n",
    "\n",
    "#### ***Case Syntax***\n",
    "\n",
    "```\n",
    "select L.language, L.percentage,\n",
    "\tif (L.isofficial = \"F\", \"No oficial\", \"Oficial\") as Tipo,\n",
    "\tcase\n",
    "\t\twhen L.isofficial = \"F\" then \"No oficial\"\n",
    "        else \"Oficial\"\n",
    "\tend as Tipo2,\n",
    "    case\n",
    "\t\twhen L.percentage < 0.3 then \"Poco hablado\"\n",
    "        when L.percentage between 0.4 and 49 then \"Mediana hablado\"\n",
    "        else \"Muy hablado\"\n",
    "    end as Frecuencia\n",
    "from countrylanguage L\n",
    "join country p on L.countrycode = p.code\n",
    "where p.name = \"Colombia\";\n",
    "```"
   ]
  }
 ],
 "metadata": {
  "language_info": {
   "name": "python"
  }
 },
 "nbformat": 4,
 "nbformat_minor": 2
}
