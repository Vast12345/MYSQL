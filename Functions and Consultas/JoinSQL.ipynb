{
 "cells": [
  {
   "cell_type": "markdown",
   "metadata": {},
   "source": [
    "## JOINS\n",
    "\n",
    "Producto Cruz: Returns everything with everything  \n",
    "\n",
    "`select C.code, C.name, D.id, D.name, D.countrycode\n",
    "from country as C, city as D;`\n",
    "\n",
    "### INNER JOINS\n",
    "Ciudades de colombia:\n",
    "\n",
    "`select P.name, C.name\n",
    "from country as P\n",
    "inner join city as C on P.code = C.countrycode\n",
    "where P.name = \"Colombia\";`\n",
    "\n",
    "### LEFT JOINS\n",
    "Todos los elementos del conjunto A y donde no exista relacion con B entonces es NULL\n",
    "\n",
    "`select L.language, P.name\n",
    "from countrylanguage as L\n",
    "left join country as P on L.CountryCode = P.code;`\n",
    "\n",
    "### RIGHT JOINS\n",
    "Todos los elementos del conjunto B y donde no exista relacion con A entonces es NULL\n",
    "\n",
    "`select P.name, C.name\n",
    "from city as C\n",
    "right join country as P on C.countrycode = P.Code\n",
    "where P.name = \"Colombia\";`"
   ]
  }
 ],
 "metadata": {
  "language_info": {
   "name": "python"
  }
 },
 "nbformat": 4,
 "nbformat_minor": 2
}
