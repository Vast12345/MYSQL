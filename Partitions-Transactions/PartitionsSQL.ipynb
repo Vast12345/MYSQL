{
 "cells": [
  {
   "cell_type": "markdown",
   "metadata": {},
   "source": [
    "# Partitions in MySQL\n",
    "\n",
    "### Partitions Definition\n",
    "* Partitions allow you to create easier routes for finding data within a table."
   ]
  }
 ],
 "metadata": {
  "language_info": {
   "name": "python"
  }
 },
 "nbformat": 4,
 "nbformat_minor": 2
}
