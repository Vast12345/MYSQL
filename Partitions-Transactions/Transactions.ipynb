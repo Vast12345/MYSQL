{
 "cells": [
  {
   "cell_type": "markdown",
   "metadata": {},
   "source": [
    "# Transactions in MYSQL\n",
    "\n",
    "### Transactions Explanation\n",
    "* Transactions allow for safety and security when doing queries or inserting values into a table. It makes sure that if there were any outside problem like a power outage or anything of the sort causing an issue with a process, it pauses the process and allows you to continue whenever you want."
   ]
  }
 ],
 "metadata": {
  "language_info": {
   "name": "python"
  }
 },
 "nbformat": 4,
 "nbformat_minor": 2
}
