{
 "cells": [
  {
   "cell_type": "markdown",
   "metadata": {},
   "source": [
    "# **Security and Permissions in MySQL**\n",
    "\n",
    "### *Permissions Explanation*\n",
    "The ability to create users and grant permissions is used to allow people to only do certain actions in a database\n",
    "\n",
    "### **Granting Permissions in MYSQL**\n",
    "\n",
    "* **Creating Users and granting permissions**\n",
    "    ```sql\n",
    "    create user 'cacas'@localhost identified by 'cacas2024';\n",
    "\n",
    "    grant select, insert, update on prueba.* to 'cacas'@localhost;\n",
    "    ```\n",
    "* **Granting and revoking on specific tables**\n",
    "    ```sql\n",
    "    grant insert on prueba.empleados to 'cacas'@localhost;\n",
    "    revoke insert on prueba.empleados from 'cacas'@localhost;\n",
    "    ```\n",
    "* **Special permission to only allow a maximum amount of queries**\n",
    "    ```sql\n",
    "    grant usage on prueba.* to 'cacas'@localhost;\n",
    "    alter user 'cacas'@localhost with max_queries_per_hour 100;\n",
    "    ```\n",
    "* **Creating an Administrative user**\n",
    "    ```sql\n",
    "    create user 'admin'@'%' identified by 'campus2024';\n",
    "    grant all privileges on *.* to 'admin'@'%' with grant option;\n",
    "    ```\n",
    "* **Granting permissions to only view certain columns in a table**\n",
    "    ```sql\n",
    "    create user camilo@localhost identified by 'bucaroscampeon';\n",
    "    grant select (fecha_pedido, total) on prueba.pedidos to camilo@localhost;\n",
    "    ```"
   ]
  },
  {
   "cell_type": "markdown",
   "metadata": {},
   "source": [
    "# **Prepare and Execute**\n",
    "\n",
    "### *P/E Explanation*\n",
    "* Allows you to safely make queries without allowing any query injections.\n",
    "\n",
    "### *P/E Example*\n",
    "\n",
    "```sql\n",
    "prepare stmt from 'select * from city where countrycode = ?';\n",
    "\n",
    "set @pais = \"COL\";\n",
    "execute stmt using @pais;\n",
    "\n",
    "deallocate prepare stmt;\n",
    "```"
   ]
  }
 ],
 "metadata": {
  "language_info": {
   "name": "python"
  }
 },
 "nbformat": 4,
 "nbformat_minor": 2
}
